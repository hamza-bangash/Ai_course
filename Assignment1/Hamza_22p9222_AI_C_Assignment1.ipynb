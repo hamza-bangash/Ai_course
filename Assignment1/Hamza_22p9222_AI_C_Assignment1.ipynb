{
 "cells": [
  {
   "cell_type": "markdown",
   "id": "a9fca4ad-71a4-40a9-91d2-74411c12107b",
   "metadata": {},
   "source": [
    "# Qno1"
   ]
  },
  {
   "cell_type": "markdown",
   "id": "5ff0c25d-c7f3-424b-a013-a66b087c3d30",
   "metadata": {},
   "source": [
    "## Part 1"
   ]
  },
  {
   "cell_type": "code",
   "execution_count": 2,
   "id": "d3bd728e-3f9d-44f2-98d2-a0d0841d3aa4",
   "metadata": {},
   "outputs": [],
   "source": [
    "class AutonomousShip:\n",
    "    def __init__(self):\n",
    "        self.position = (0, 0)\n",
    "        self.obstacles = []\n",
    "        self.weather = \"calm\"\n",
    "    \n",
    "    def perceive(self, sensors):\n",
    "        self.position = sensors['gps']\n",
    "        self.obstacles = sensors['radar']\n",
    "        self.weather = sensors['weather']\n",
    "    \n",
    "    def decide_action(self):\n",
    "        if self.weather == \"storm\":\n",
    "            return \"slow_down\"\n",
    "        elif self.obstacles:\n",
    "            return \"adjust_course\"\n",
    "        else:\n",
    "            return \"maintain_speed\""
   ]
  },
  {
   "cell_type": "markdown",
   "id": "7544543b-7b0a-41cf-b39c-d57c979ed918",
   "metadata": {},
   "source": [
    "## Part 2"
   ]
  },
  {
   "cell_type": "code",
   "execution_count": 3,
   "id": "2282b2d7-3b8a-4954-b471-0986989a75f2",
   "metadata": {},
   "outputs": [],
   "source": [
    "def prioritize_navigation(gps, radar, sonar, weather):\n",
    "    alerts = []\n",
    "    if radar.distance_to_nearest < 500:\n",
    "        alerts.append(\"collision_risk_high\")\n",
    "    if weather.wind_speed > 30:\n",
    "        alerts.append(\"storm_warning\")\n",
    "    if sonar.submerged_objects:\n",
    "        alerts.append(\"underwater_hazard\")\n",
    "    \n",
    "    if \"collision_risk_high\" in alerts:\n",
    "        return \"emergency_maneuver\"\n",
    "    elif \"storm_warning\" in alerts:\n",
    "        return \"reroute\"\n",
    "    else:\n",
    "        return \"proceed_normal\""
   ]
  },
  {
   "cell_type": "markdown",
   "id": "76a17479-70b3-4fbb-b255-36c34f7cf38c",
   "metadata": {},
   "source": [
    "## Part 3"
   ]
  },
  {
   "cell_type": "code",
   "execution_count": 4,
   "id": "b2a9abd1-ad96-442e-b775-b3756ded0d49",
   "metadata": {},
   "outputs": [],
   "source": [
    "import requests\n",
    "\n",
    "class ShipAgent:\n",
    "    def __init__(self, id):\n",
    "        self.id = id\n",
    "        self.position = (0, 0)\n",
    "    \n",
    "    def send_position(self, port_url):\n",
    "        data = {'ship_id': self.id, 'position': self.position}\n",
    "        response = requests.post(port_url, json=data)\n",
    "        return response.status_code"
   ]
  },
  {
   "cell_type": "markdown",
   "id": "7ff1963f-9642-4e85-9fdd-bfefed3b1600",
   "metadata": {},
   "source": [
    "# Qno2"
   ]
  },
  {
   "cell_type": "markdown",
   "id": "b829cc69-b737-4770-9594-9d126ff61809",
   "metadata": {},
   "source": [
    "## Part 1"
   ]
  },
  {
   "cell_type": "code",
   "execution_count": 5,
   "id": "d7774aef-cf0e-4a74-88a3-581fc005cba3",
   "metadata": {},
   "outputs": [],
   "source": [
    "class OceanEnvironment:\n",
    "    def __init__(self):\n",
    "        self.visibility = 10\n",
    "        self.weather = \"calm\"\n",
    "        self.obstacle_density = 0.1\n",
    "    \n",
    "    def update_conditions(self):\n",
    "        self.visibility = max(0, self.visibility + random.randint(-2, 2))\n",
    "        self.weather = random.choice([\"calm\", \"storm\", \"fog\"])\n",
    "        self.obstacle_density = random.uniform(0, 1)"
   ]
  },
  {
   "cell_type": "markdown",
   "id": "9c8b46fe-bc98-4638-b7bb-ff1522f5fd7d",
   "metadata": {},
   "source": [
    "## Part 2"
   ]
  },
  {
   "cell_type": "code",
   "execution_count": 6,
   "id": "75fe6045-4ea3-4695-98db-8104606d0fa2",
   "metadata": {},
   "outputs": [],
   "source": [
    "def adaptive_navigation(current_position, obstacles, weather):\n",
    "    SAFE_DISTANCE = 1000\n",
    "    if weather == \"storm\":\n",
    "        speed = 10\n",
    "    else:\n",
    "        speed = 20\n",
    "    \n",
    "    for obstacle in obstacles:\n",
    "        if distance(current_position, obstacle.position) < SAFE_DISTANCE:\n",
    "            return calculate_detour(current_position, obstacle)\n",
    "    return current_position"
   ]
  },
  {
   "cell_type": "markdown",
   "id": "6924435c-0887-45ed-9e34-7a7ca839c723",
   "metadata": {},
   "source": [
    "## Part 3"
   ]
  },
  {
   "cell_type": "code",
   "execution_count": null,
   "id": "7e3b345e-c370-46d6-bdae-055d11df2bbf",
   "metadata": {},
   "outputs": [],
   "source": [
    "def safest_route(traffic_density, weather, fuel):\n",
    "    safety_score = 0.7 * (1 - traffic_density) + 0.3 * (1 - weather.severity)\n",
    "    fuel_score = 0.5 * fuel.efficiency\n",
    "    \n",
    "    if safety_score > 0.8:\n",
    "        return \"primary_route\"\n",
    "    elif safety_score > 0.5:\n",
    "        return \"alternate_route\"\n",
    "    else:\n",
    "        return \"emergency_anchorage\""
   ]
  }
 ],
 "metadata": {
  "kernelspec": {
   "display_name": "Python 3 (ipykernel)",
   "language": "python",
   "name": "python3"
  },
  "language_info": {
   "codemirror_mode": {
    "name": "ipython",
    "version": 3
   },
   "file_extension": ".py",
   "mimetype": "text/x-python",
   "name": "python",
   "nbconvert_exporter": "python",
   "pygments_lexer": "ipython3",
   "version": "3.12.2"
  }
 },
 "nbformat": 4,
 "nbformat_minor": 5
}
